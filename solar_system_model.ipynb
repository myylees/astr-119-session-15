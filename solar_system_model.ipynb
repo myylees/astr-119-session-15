{
 "cells": [
  {
   "cell_type": "code",
   "execution_count": 12,
   "metadata": {},
   "outputs": [],
   "source": [
    "%matplotlib inline\n",
    "import numpy as np\n",
    "import matplotlib.pyplot as plt\n",
    "from collections import namedtuple"
   ]
  },
  {
   "cell_type": "code",
   "execution_count": 13,
   "metadata": {},
   "outputs": [],
   "source": [
    "class planet():\n",
    "    \"A planet in our solar system\"\n",
    "    def __init__(self,semimajor,eccentricity):\n",
    "        self.x   = np.zeros(2) #x and y position\n",
    "        self.v   = np.zeros(2) #x and y velocity\n",
    "        self.a_g = np.zeros(2) #x and y acceleration\n",
    "        self.t  = 0.0          #current time\n",
    "        self.dt = 0.0          #current timestep\n",
    "        self.a  = semimajor    #semimajor axis of the orbit\n",
    "        self.e  = eccentricity #eccentricity of the orbit\n",
    "        self.istep = 0         #current integer timestep1\n",
    "        self.name = \"\"         #name for the planet"
   ]
  },
  {
   "cell_type": "code",
   "execution_count": 14,
   "metadata": {},
   "outputs": [],
   "source": [
    "solar_system = { \"M_sun\":1.0, \"G\":39.4784176043574320}"
   ]
  },
  {
   "cell_type": "code",
   "execution_count": 15,
   "metadata": {},
   "outputs": [],
   "source": [
    "def SolarCircularVelocity(p):\n",
    "    \n",
    "    G = solar_system[\"G\"]\n",
    "    M = solar_system[\"M_sun\"]\n",
    "    r = ( p.x[0]**2 + p.x[1]**2 )**0.5\n",
    "    \n",
    "    #return the circular velocity\n",
    "    return (G*M/r)**0.5\n"
   ]
  },
  {
   "cell_type": "code",
   "execution_count": 16,
   "metadata": {},
   "outputs": [],
   "source": [
    "def SolarGravitationalAcceleration(p):\n",
    "    \n",
    "    G = solar_system[\"G\"]\n",
    "    M = solar_system[\"M_sun\"]\n",
    "    r = ( p.x[0]**2 + p.x[1]**2 )**0.5\n",
    "    \n",
    "    #acceleration in AU/yr/yr\n",
    "    a_grav = -1.0*G*M/r**2\n",
    "    \n",
    "    #find the angle at this position\n",
    "    if(p.x[0]==0.0):\n",
    "        if(p.x[1]>0.0):\n",
    "            theta = 0.5*np.pi\n",
    "        else:\n",
    "            theta = 1.5*np.pi\n",
    "    else:\n",
    "        theta = np.arctan2(p.x[1],p.x[0])\n",
    "        \n",
    "    #set the x and y components of the velocity\n",
    "    #p.a_g[0] = a_grav * np.cos(theta)\n",
    "    #p.a_g[1] = a_grav * np.sin(theta)\n",
    "    return a_grav*np.cos(theta), a_grav*np.sin(theta)"
   ]
  },
  {
   "cell_type": "code",
   "execution_count": 17,
   "metadata": {},
   "outputs": [],
   "source": [
    "def calc_dt(p):\n",
    "    \n",
    "    #integration tolerance\n",
    "    ETA_TIME_STEP = 0.0004\n",
    "    \n",
    "    #compute timestep\n",
    "    eta - ETA_TIME_STEP\n",
    "    v = (p.v[0]**2 + p.v[1]**2)**0.5\n",
    "    a = (p.a_g[0]**2 + p.a_g[1]**2)**0.5\n",
    "    dt = eta * np.fmin(1./np.fabs(v),1./np.fabs(a)**0.5)\n",
    "    \n",
    "    return dt"
   ]
  },
  {
   "cell_type": "code",
   "execution_count": 18,
   "metadata": {},
   "outputs": [],
   "source": [
    "def SetPlanet(p, i):\n",
    "    \n",
    "    AU_in_km = 1.495979e+8  #an AU in km\n",
    "    \n",
    "    #circular velocity\n",
    "    v_c = 0.0      #circular velocity in AU/yr\n",
    "    v_e = 0.0      #velocity at perihelion in AU/yr\n",
    "    \n",
    "    #planet-by planet initial conditions\n",
    "    \n",
    "    #Mercury\n",
    "    if(i==0):\n",
    "        #semi-major axis in AU\n",
    "        p.a = 57909227.0/AU_in_km\n",
    "        \n",
    "        #eccentricity\n",
    "        p.e = 0.20563593\n",
    "        \n",
    "        #name\n",
    "        p.name = \"Mercury\"\n",
    "        \n",
    "    #Venus\n",
    "    elif(i==1):\n",
    "        #semi-major axis in AU\n",
    "        p.a = 108209475.0/AU_in_km\n",
    "        \n",
    "        #eccentricity\n",
    "        p.e = 0.00677672\n",
    "        \n",
    "        #name\n",
    "        p.name = \"Venus\"\n",
    "        \n",
    "    #Earth\n",
    "    elif(i==2):\n",
    "        #semi-major axis in AU\n",
    "        p.a = 1.0\n",
    "        \n",
    "        #eccentricity\n",
    "        p.e = 0.01671123\n",
    "        \n",
    "        #name\n",
    "        p.name = \"Earth\"\n",
    "        \n",
    "    #set remaining properties\n",
    "    p.t = 0.0\n",
    "    p.x[0] = p.a*(1.0-p.e)\n",
    "    p.x[1] = 0.0\n",
    "    \n",
    "    #get equiv circular velocity\n",
    "    v_c = SolarCircularVelocity(p)\n",
    "    \n",
    "    #velocity at perihelion\n",
    "    v_e = v_c*(1 + p.e)**0.5\n",
    "    \n",
    "    #set velocity\n",
    "    p.v[0] = 0.0     #no x velocity at perihelion\n",
    "    p.v[1] = v_e     #y velocity at perihelion (counter clockwise)\n",
    "    \n",
    "    #calculate gravitational acceleration from Sun\n",
    "    p.a_g = SolarGravitationalAcceleration(p)\n",
    "    \n",
    "    #set timestep\n",
    "    p.dt = calc_dt(p)\n",
    "    "
   ]
  },
  {
   "cell_type": "code",
   "execution_count": 19,
   "metadata": {},
   "outputs": [],
   "source": [
    "def x_first_step(x_i, v_i, a_i, dt):\n",
    "    #x_1/2 = x_0 + 1/2 v_ Delta_t 1/4 a_0 Delta t^2\n",
    "    return x_i + 0.5*v_*dt * 0.25*a_i*dt**2"
   ]
  },
  {
   "cell_type": "code",
   "execution_count": 20,
   "metadata": {},
   "outputs": [],
   "source": [
    "def v_full_step(v_i, a_ipoh, dt):\n",
    "    #v_i+1 = v_i + a_i+1/2 Delta t\n",
    "    return v_i + a_ipoh*dt;"
   ]
  },
  {
   "cell_type": "code",
   "execution_count": 21,
   "metadata": {},
   "outputs": [],
   "source": [
    "def x_full_step(x_ipoh, v_ip1, a_ipoh, dt):\n",
    "    #x_3/2 = x_1/2 +v_i+1 Delta t\n",
    "    return x_ipoh + v_ip1*dt;"
   ]
  },
  {
   "cell_type": "code",
   "execution_count": null,
   "metadata": {},
   "outputs": [],
   "source": [
    "def SaveSolar System(p, n_planets, t, dt, istep, ndim):\n",
    "    \n",
    "    #loop over the number of planets\n",
    "    for i in range(n_planets):\n",
    "        #define a filename\n",
    "        fname = \"planet.%s.txt\" % p[i].name\n",
    "        \n",
    "        if(istep==0):\n",
    "            #create the file on the first timestep\n",
    "            fp = open(fname,\"w\")\n",
    "        else:\n",
    "            #append the file on subsequent timesteps\n",
    "            fp = open(fname,\"a\")\n",
    "            \n",
    "        #compute the drifted properties of the planet\n",
    "        v_drift = np.zeros(ndim)\n",
    "        \n",
    "        for k in range(ndim):\n",
    "            v_drift[k] = p[i].v[k] + 0.5*p[i].a_g[k]*p[i].dt\n",
    "            \n",
    "        #write the data to file\n",
    "        s= \"%6d\\t%6.5f\\t%\""
   ]
  }
 ],
 "metadata": {
  "kernelspec": {
   "display_name": "Python 3",
   "language": "python",
   "name": "python3"
  },
  "language_info": {
   "codemirror_mode": {
    "name": "ipython",
    "version": 3
   },
   "file_extension": ".py",
   "mimetype": "text/x-python",
   "name": "python",
   "nbconvert_exporter": "python",
   "pygments_lexer": "ipython3",
   "version": "3.6.5"
  }
 },
 "nbformat": 4,
 "nbformat_minor": 2
}
